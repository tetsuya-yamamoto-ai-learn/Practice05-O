{
 "cells": [
  {
   "cell_type": "markdown",
   "metadata": {},
   "source": [
    "# MNISTデータ"
   ]
  },
  {
   "cell_type": "markdown",
   "metadata": {},
   "source": [
    "## MNISTデータセットとは\n",
    "\n",
    "MNIST(Mixed National Insutitute of Standards and Technology databese)とは、手書き数字画像70,000枚のデータセット。  \n",
    "\n",
    "「0~9」の手書き数字画像データと正解ラベルがセットになっていて、ニューラルネットワークの手法を学ぶ上で便利なため入門者によく利用されている。\n",
    "画像データからその数字を予測することが目的である。\n",
    "\n",
    "画像データは\n",
    "\n",
    "\n",
    "![MNISTデータセット](https://weblabo.oscasierra.net/wp-content/uploads/2017/08/python-ai-mnist-data-detail-1.png)\n",
    "\n",
    "参考1：<https://udemy.benesse.co.jp/ai/mnist.html>  \n",
    "参考2：<https://weblabo.oscasierra.net/python/ai-mnist-data-detail.html>"
   ]
  },
  {
   "cell_type": "markdown",
   "metadata": {},
   "source": [
    "## ラベルデータ\n",
    "\n",
    "ラベルデータの構成は以下表の様になっている。各画像データの正解ラベル「0 ~ 9」が格納されている。\n",
    "\n",
    "\n",
    "|offset|type|value|description|\n",
    "|----|----|----|----|\n",
    "|0000|32 bit integer|0x00000801(2049)|識別子(定数)|\n",
    "|0004|32 bit integer|60000 or 10000|ラベルデータの数|\n",
    "|0008|unsigned byte|0 ～ 9|1つ目のデータのラベル|\n",
    "|0009|unsigned byte|0 ～ 9|2つ目のデータのラベル|\n",
    "|....|....|....|....|  \n",
    "|xxxx|unsigned byte|0 ～ 9|最後のデータのラベル|  \n"
   ]
  },
  {
   "cell_type": "markdown",
   "metadata": {},
   "source": [
    "## 画像データ\n",
    "\n",
    "画像データの構成は以下の表の様になっている。画像データは28×28の白黒画像になっており、各ピクセルの値は0:白 → 255:黒を示している。\n",
    "\n",
    "\n",
    "|offset|type|value|description|\n",
    "|----|----|----|----|\n",
    "|0000|32 bit integer|0x00000803(2051)|識別子(定数)|\n",
    "|0004|32 bit integer|60000|画像データの数|\n",
    "|0008|32 bit integer|28|1画像あたりのデータ行数|\n",
    "|0012|32 bit integer|28|1画像あたりのデータ列数|\n",
    "|0016|unsigned byte|0 ～ 255|1つめの画像の1ピクセル目の値|\n",
    "|0017|unsigned byte|0 ～ 255|1つめの画像の2ピクセル目の値|\n",
    "|....|....|....|....| \n",
    "|xxxx|unsigned byte|0 ～ 255|最後の画像の784ピクセル目の値|  \n"
   ]
  },
  {
   "cell_type": "markdown",
   "metadata": {},
   "source": [
    "# MNISTのEDA"
   ]
  },
  {
   "cell_type": "code",
   "execution_count": null,
   "metadata": {},
   "outputs": [],
   "source": []
  },
  {
   "cell_type": "code",
   "execution_count": null,
   "metadata": {},
   "outputs": [],
   "source": []
  },
  {
   "cell_type": "code",
   "execution_count": null,
   "metadata": {},
   "outputs": [],
   "source": []
  },
  {
   "cell_type": "code",
   "execution_count": null,
   "metadata": {},
   "outputs": [],
   "source": []
  },
  {
   "cell_type": "code",
   "execution_count": null,
   "metadata": {},
   "outputs": [],
   "source": []
  },
  {
   "cell_type": "code",
   "execution_count": null,
   "metadata": {},
   "outputs": [],
   "source": []
  },
  {
   "cell_type": "code",
   "execution_count": null,
   "metadata": {},
   "outputs": [],
   "source": []
  },
  {
   "cell_type": "code",
   "execution_count": null,
   "metadata": {},
   "outputs": [],
   "source": []
  },
  {
   "cell_type": "code",
   "execution_count": null,
   "metadata": {},
   "outputs": [],
   "source": []
  }
 ],
 "metadata": {
  "kernelspec": {
   "display_name": "Python 3",
   "language": "python",
   "name": "python3"
  },
  "language_info": {
   "codemirror_mode": {
    "name": "ipython",
    "version": 3
   },
   "file_extension": ".py",
   "mimetype": "text/x-python",
   "name": "python",
   "nbconvert_exporter": "python",
   "pygments_lexer": "ipython3",
   "version": "3.7.3"
  },
  "toc": {
   "base_numbering": 1,
   "nav_menu": {},
   "number_sections": true,
   "sideBar": true,
   "skip_h1_title": false,
   "title_cell": "Table of Contents",
   "title_sidebar": "Contents",
   "toc_cell": false,
   "toc_position": {},
   "toc_section_display": true,
   "toc_window_display": false
  }
 },
 "nbformat": 4,
 "nbformat_minor": 2
}
